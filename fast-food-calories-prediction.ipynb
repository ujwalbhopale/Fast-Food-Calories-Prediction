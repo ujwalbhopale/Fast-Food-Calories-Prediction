{
 "cells": [
  {
   "cell_type": "markdown",
   "id": "19c8c216",
   "metadata": {
    "papermill": {
     "duration": 0.00714,
     "end_time": "2023-10-18T06:53:45.734522",
     "exception": false,
     "start_time": "2023-10-18T06:53:45.727382",
     "status": "completed"
    },
    "tags": []
   },
   "source": [
    "#### IMPORTING REQUIRED LIBRARIES"
   ]
  },
  {
   "cell_type": "code",
   "execution_count": 1,
   "id": "6349a0eb",
   "metadata": {
    "execution": {
     "iopub.execute_input": "2023-10-18T06:53:45.750323Z",
     "iopub.status.busy": "2023-10-18T06:53:45.749759Z",
     "iopub.status.idle": "2023-10-18T06:53:47.773417Z",
     "shell.execute_reply": "2023-10-18T06:53:47.772558Z"
    },
    "papermill": {
     "duration": 2.034135,
     "end_time": "2023-10-18T06:53:47.775547",
     "exception": false,
     "start_time": "2023-10-18T06:53:45.741412",
     "status": "completed"
    },
    "tags": []
   },
   "outputs": [],
   "source": [
    "import numpy as np\n",
    "import pandas as pd\n",
    "import matplotlib.pyplot as plt\n",
    "import seaborn as sns\n",
    "from sklearn.model_selection import train_test_split"
   ]
  },
  {
   "cell_type": "code",
   "execution_count": 2,
   "id": "a40c7e91",
   "metadata": {
    "_cell_guid": "b1076dfc-b9ad-4769-8c92-a6c4dae69d19",
    "_uuid": "8f2839f25d086af736a60e9eeb907d3b93b6e0e5",
    "execution": {
     "iopub.execute_input": "2023-10-18T06:53:47.791291Z",
     "iopub.status.busy": "2023-10-18T06:53:47.790356Z",
     "iopub.status.idle": "2023-10-18T06:53:47.794435Z",
     "shell.execute_reply": "2023-10-18T06:53:47.793740Z"
    },
    "papermill": {
     "duration": 0.014418,
     "end_time": "2023-10-18T06:53:47.796905",
     "exception": false,
     "start_time": "2023-10-18T06:53:47.782487",
     "status": "completed"
    },
    "tags": []
   },
   "outputs": [],
   "source": [
    "import warnings\n",
    "warnings.filterwarnings('ignore')"
   ]
  },
  {
   "cell_type": "code",
   "execution_count": 3,
   "id": "457cc3ed",
   "metadata": {
    "execution": {
     "iopub.execute_input": "2023-10-18T06:53:47.818672Z",
     "iopub.status.busy": "2023-10-18T06:53:47.817734Z",
     "iopub.status.idle": "2023-10-18T06:53:47.892124Z",
     "shell.execute_reply": "2023-10-18T06:53:47.891039Z"
    },
    "papermill": {
     "duration": 0.087444,
     "end_time": "2023-10-18T06:53:47.894459",
     "exception": false,
     "start_time": "2023-10-18T06:53:47.807015",
     "status": "completed"
    },
    "tags": []
   },
   "outputs": [
    {
     "data": {
      "text/html": [
       "<div>\n",
       "<style scoped>\n",
       "    .dataframe tbody tr th:only-of-type {\n",
       "        vertical-align: middle;\n",
       "    }\n",
       "\n",
       "    .dataframe tbody tr th {\n",
       "        vertical-align: top;\n",
       "    }\n",
       "\n",
       "    .dataframe thead th {\n",
       "        text-align: right;\n",
       "    }\n",
       "</style>\n",
       "<table border=\"1\" class=\"dataframe\">\n",
       "  <thead>\n",
       "    <tr style=\"text-align: right;\">\n",
       "      <th></th>\n",
       "      <th>Unnamed: 0</th>\n",
       "      <th>restaurant</th>\n",
       "      <th>item</th>\n",
       "      <th>calories</th>\n",
       "      <th>cal_fat</th>\n",
       "      <th>total_fat</th>\n",
       "      <th>sat_fat</th>\n",
       "      <th>trans_fat</th>\n",
       "      <th>cholesterol</th>\n",
       "      <th>sodium</th>\n",
       "      <th>total_carb</th>\n",
       "      <th>fiber</th>\n",
       "      <th>sugar</th>\n",
       "      <th>protein</th>\n",
       "      <th>vit_a</th>\n",
       "      <th>vit_c</th>\n",
       "      <th>calcium</th>\n",
       "      <th>salad</th>\n",
       "    </tr>\n",
       "  </thead>\n",
       "  <tbody>\n",
       "    <tr>\n",
       "      <th>0</th>\n",
       "      <td>1</td>\n",
       "      <td>Mcdonalds</td>\n",
       "      <td>Artisan Grilled Chicken Sandwich</td>\n",
       "      <td>380</td>\n",
       "      <td>60</td>\n",
       "      <td>7</td>\n",
       "      <td>2.0</td>\n",
       "      <td>0.0</td>\n",
       "      <td>95</td>\n",
       "      <td>1110</td>\n",
       "      <td>44</td>\n",
       "      <td>3.0</td>\n",
       "      <td>11</td>\n",
       "      <td>37.0</td>\n",
       "      <td>4.0</td>\n",
       "      <td>20.0</td>\n",
       "      <td>20.0</td>\n",
       "      <td>Other</td>\n",
       "    </tr>\n",
       "    <tr>\n",
       "      <th>1</th>\n",
       "      <td>2</td>\n",
       "      <td>Mcdonalds</td>\n",
       "      <td>Single Bacon Smokehouse Burger</td>\n",
       "      <td>840</td>\n",
       "      <td>410</td>\n",
       "      <td>45</td>\n",
       "      <td>17.0</td>\n",
       "      <td>1.5</td>\n",
       "      <td>130</td>\n",
       "      <td>1580</td>\n",
       "      <td>62</td>\n",
       "      <td>2.0</td>\n",
       "      <td>18</td>\n",
       "      <td>46.0</td>\n",
       "      <td>6.0</td>\n",
       "      <td>20.0</td>\n",
       "      <td>20.0</td>\n",
       "      <td>Other</td>\n",
       "    </tr>\n",
       "    <tr>\n",
       "      <th>2</th>\n",
       "      <td>3</td>\n",
       "      <td>Mcdonalds</td>\n",
       "      <td>Double Bacon Smokehouse Burger</td>\n",
       "      <td>1130</td>\n",
       "      <td>600</td>\n",
       "      <td>67</td>\n",
       "      <td>27.0</td>\n",
       "      <td>3.0</td>\n",
       "      <td>220</td>\n",
       "      <td>1920</td>\n",
       "      <td>63</td>\n",
       "      <td>3.0</td>\n",
       "      <td>18</td>\n",
       "      <td>70.0</td>\n",
       "      <td>10.0</td>\n",
       "      <td>20.0</td>\n",
       "      <td>50.0</td>\n",
       "      <td>Other</td>\n",
       "    </tr>\n",
       "    <tr>\n",
       "      <th>3</th>\n",
       "      <td>4</td>\n",
       "      <td>Mcdonalds</td>\n",
       "      <td>Grilled Bacon Smokehouse Chicken Sandwich</td>\n",
       "      <td>750</td>\n",
       "      <td>280</td>\n",
       "      <td>31</td>\n",
       "      <td>10.0</td>\n",
       "      <td>0.5</td>\n",
       "      <td>155</td>\n",
       "      <td>1940</td>\n",
       "      <td>62</td>\n",
       "      <td>2.0</td>\n",
       "      <td>18</td>\n",
       "      <td>55.0</td>\n",
       "      <td>6.0</td>\n",
       "      <td>25.0</td>\n",
       "      <td>20.0</td>\n",
       "      <td>Other</td>\n",
       "    </tr>\n",
       "    <tr>\n",
       "      <th>4</th>\n",
       "      <td>5</td>\n",
       "      <td>Mcdonalds</td>\n",
       "      <td>Crispy Bacon Smokehouse Chicken Sandwich</td>\n",
       "      <td>920</td>\n",
       "      <td>410</td>\n",
       "      <td>45</td>\n",
       "      <td>12.0</td>\n",
       "      <td>0.5</td>\n",
       "      <td>120</td>\n",
       "      <td>1980</td>\n",
       "      <td>81</td>\n",
       "      <td>4.0</td>\n",
       "      <td>18</td>\n",
       "      <td>46.0</td>\n",
       "      <td>6.0</td>\n",
       "      <td>20.0</td>\n",
       "      <td>20.0</td>\n",
       "      <td>Other</td>\n",
       "    </tr>\n",
       "    <tr>\n",
       "      <th>5</th>\n",
       "      <td>6</td>\n",
       "      <td>Mcdonalds</td>\n",
       "      <td>Big Mac</td>\n",
       "      <td>540</td>\n",
       "      <td>250</td>\n",
       "      <td>28</td>\n",
       "      <td>10.0</td>\n",
       "      <td>1.0</td>\n",
       "      <td>80</td>\n",
       "      <td>950</td>\n",
       "      <td>46</td>\n",
       "      <td>3.0</td>\n",
       "      <td>9</td>\n",
       "      <td>25.0</td>\n",
       "      <td>10.0</td>\n",
       "      <td>2.0</td>\n",
       "      <td>15.0</td>\n",
       "      <td>Other</td>\n",
       "    </tr>\n",
       "    <tr>\n",
       "      <th>6</th>\n",
       "      <td>7</td>\n",
       "      <td>Mcdonalds</td>\n",
       "      <td>Cheeseburger</td>\n",
       "      <td>300</td>\n",
       "      <td>100</td>\n",
       "      <td>12</td>\n",
       "      <td>5.0</td>\n",
       "      <td>0.5</td>\n",
       "      <td>40</td>\n",
       "      <td>680</td>\n",
       "      <td>33</td>\n",
       "      <td>2.0</td>\n",
       "      <td>7</td>\n",
       "      <td>15.0</td>\n",
       "      <td>10.0</td>\n",
       "      <td>2.0</td>\n",
       "      <td>10.0</td>\n",
       "      <td>Other</td>\n",
       "    </tr>\n",
       "    <tr>\n",
       "      <th>7</th>\n",
       "      <td>8</td>\n",
       "      <td>Mcdonalds</td>\n",
       "      <td>Classic Chicken Sandwich</td>\n",
       "      <td>510</td>\n",
       "      <td>210</td>\n",
       "      <td>24</td>\n",
       "      <td>4.0</td>\n",
       "      <td>0.0</td>\n",
       "      <td>65</td>\n",
       "      <td>1040</td>\n",
       "      <td>49</td>\n",
       "      <td>3.0</td>\n",
       "      <td>6</td>\n",
       "      <td>25.0</td>\n",
       "      <td>0.0</td>\n",
       "      <td>4.0</td>\n",
       "      <td>2.0</td>\n",
       "      <td>Other</td>\n",
       "    </tr>\n",
       "    <tr>\n",
       "      <th>8</th>\n",
       "      <td>9</td>\n",
       "      <td>Mcdonalds</td>\n",
       "      <td>Double Cheeseburger</td>\n",
       "      <td>430</td>\n",
       "      <td>190</td>\n",
       "      <td>21</td>\n",
       "      <td>11.0</td>\n",
       "      <td>1.0</td>\n",
       "      <td>85</td>\n",
       "      <td>1040</td>\n",
       "      <td>35</td>\n",
       "      <td>2.0</td>\n",
       "      <td>7</td>\n",
       "      <td>25.0</td>\n",
       "      <td>20.0</td>\n",
       "      <td>4.0</td>\n",
       "      <td>15.0</td>\n",
       "      <td>Other</td>\n",
       "    </tr>\n",
       "    <tr>\n",
       "      <th>9</th>\n",
       "      <td>10</td>\n",
       "      <td>Mcdonalds</td>\n",
       "      <td>Double Quarter PounderÂ® with Cheese</td>\n",
       "      <td>770</td>\n",
       "      <td>400</td>\n",
       "      <td>45</td>\n",
       "      <td>21.0</td>\n",
       "      <td>2.5</td>\n",
       "      <td>175</td>\n",
       "      <td>1290</td>\n",
       "      <td>42</td>\n",
       "      <td>3.0</td>\n",
       "      <td>10</td>\n",
       "      <td>51.0</td>\n",
       "      <td>20.0</td>\n",
       "      <td>6.0</td>\n",
       "      <td>20.0</td>\n",
       "      <td>Other</td>\n",
       "    </tr>\n",
       "    <tr>\n",
       "      <th>10</th>\n",
       "      <td>11</td>\n",
       "      <td>Mcdonalds</td>\n",
       "      <td>Filet-O-FishÂ®</td>\n",
       "      <td>380</td>\n",
       "      <td>170</td>\n",
       "      <td>18</td>\n",
       "      <td>4.0</td>\n",
       "      <td>0.0</td>\n",
       "      <td>40</td>\n",
       "      <td>640</td>\n",
       "      <td>38</td>\n",
       "      <td>2.0</td>\n",
       "      <td>5</td>\n",
       "      <td>15.0</td>\n",
       "      <td>2.0</td>\n",
       "      <td>0.0</td>\n",
       "      <td>15.0</td>\n",
       "      <td>Other</td>\n",
       "    </tr>\n",
       "    <tr>\n",
       "      <th>11</th>\n",
       "      <td>12</td>\n",
       "      <td>Mcdonalds</td>\n",
       "      <td>Garlic White Cheddar Burger</td>\n",
       "      <td>620</td>\n",
       "      <td>300</td>\n",
       "      <td>34</td>\n",
       "      <td>13.0</td>\n",
       "      <td>1.5</td>\n",
       "      <td>95</td>\n",
       "      <td>790</td>\n",
       "      <td>48</td>\n",
       "      <td>3.0</td>\n",
       "      <td>11</td>\n",
       "      <td>32.0</td>\n",
       "      <td>10.0</td>\n",
       "      <td>10.0</td>\n",
       "      <td>35.0</td>\n",
       "      <td>Other</td>\n",
       "    </tr>\n",
       "    <tr>\n",
       "      <th>12</th>\n",
       "      <td>13</td>\n",
       "      <td>Mcdonalds</td>\n",
       "      <td>Grilled Garlic White Cheddar Chicken Sandwich</td>\n",
       "      <td>530</td>\n",
       "      <td>180</td>\n",
       "      <td>20</td>\n",
       "      <td>7.0</td>\n",
       "      <td>0.0</td>\n",
       "      <td>125</td>\n",
       "      <td>1150</td>\n",
       "      <td>48</td>\n",
       "      <td>3.0</td>\n",
       "      <td>11</td>\n",
       "      <td>42.0</td>\n",
       "      <td>10.0</td>\n",
       "      <td>20.0</td>\n",
       "      <td>35.0</td>\n",
       "      <td>Other</td>\n",
       "    </tr>\n",
       "    <tr>\n",
       "      <th>13</th>\n",
       "      <td>14</td>\n",
       "      <td>Mcdonalds</td>\n",
       "      <td>Crispy Garlic White Cheddar Chicken Sandwich</td>\n",
       "      <td>700</td>\n",
       "      <td>300</td>\n",
       "      <td>34</td>\n",
       "      <td>9.0</td>\n",
       "      <td>0.0</td>\n",
       "      <td>85</td>\n",
       "      <td>1190</td>\n",
       "      <td>67</td>\n",
       "      <td>5.0</td>\n",
       "      <td>11</td>\n",
       "      <td>33.0</td>\n",
       "      <td>10.0</td>\n",
       "      <td>15.0</td>\n",
       "      <td>35.0</td>\n",
       "      <td>Other</td>\n",
       "    </tr>\n",
       "    <tr>\n",
       "      <th>14</th>\n",
       "      <td>15</td>\n",
       "      <td>Mcdonalds</td>\n",
       "      <td>Hamburger</td>\n",
       "      <td>250</td>\n",
       "      <td>70</td>\n",
       "      <td>8</td>\n",
       "      <td>3.0</td>\n",
       "      <td>0.0</td>\n",
       "      <td>30</td>\n",
       "      <td>480</td>\n",
       "      <td>31</td>\n",
       "      <td>2.0</td>\n",
       "      <td>6</td>\n",
       "      <td>13.0</td>\n",
       "      <td>2.0</td>\n",
       "      <td>2.0</td>\n",
       "      <td>4.0</td>\n",
       "      <td>Other</td>\n",
       "    </tr>\n",
       "    <tr>\n",
       "      <th>15</th>\n",
       "      <td>16</td>\n",
       "      <td>Mcdonalds</td>\n",
       "      <td>Lobster Roll</td>\n",
       "      <td>290</td>\n",
       "      <td>50</td>\n",
       "      <td>5</td>\n",
       "      <td>1.5</td>\n",
       "      <td>0.0</td>\n",
       "      <td>65</td>\n",
       "      <td>630</td>\n",
       "      <td>35</td>\n",
       "      <td>2.0</td>\n",
       "      <td>3</td>\n",
       "      <td>24.0</td>\n",
       "      <td>4.0</td>\n",
       "      <td>6.0</td>\n",
       "      <td>15.0</td>\n",
       "      <td>Other</td>\n",
       "    </tr>\n",
       "    <tr>\n",
       "      <th>16</th>\n",
       "      <td>17</td>\n",
       "      <td>Mcdonalds</td>\n",
       "      <td>Maple Bacon Dijon 1/4 lb Burger</td>\n",
       "      <td>640</td>\n",
       "      <td>330</td>\n",
       "      <td>36</td>\n",
       "      <td>14.0</td>\n",
       "      <td>1.5</td>\n",
       "      <td>110</td>\n",
       "      <td>1260</td>\n",
       "      <td>40</td>\n",
       "      <td>3.0</td>\n",
       "      <td>10</td>\n",
       "      <td>37.0</td>\n",
       "      <td>6.0</td>\n",
       "      <td>15.0</td>\n",
       "      <td>15.0</td>\n",
       "      <td>Other</td>\n",
       "    </tr>\n",
       "    <tr>\n",
       "      <th>17</th>\n",
       "      <td>18</td>\n",
       "      <td>Mcdonalds</td>\n",
       "      <td>Grilled Maple Bacon Dijon Chicken Sandwich</td>\n",
       "      <td>580</td>\n",
       "      <td>190</td>\n",
       "      <td>21</td>\n",
       "      <td>8.0</td>\n",
       "      <td>0.0</td>\n",
       "      <td>135</td>\n",
       "      <td>1890</td>\n",
       "      <td>50</td>\n",
       "      <td>3.0</td>\n",
       "      <td>14</td>\n",
       "      <td>48.0</td>\n",
       "      <td>4.0</td>\n",
       "      <td>30.0</td>\n",
       "      <td>30.0</td>\n",
       "      <td>Other</td>\n",
       "    </tr>\n",
       "    <tr>\n",
       "      <th>18</th>\n",
       "      <td>19</td>\n",
       "      <td>Mcdonalds</td>\n",
       "      <td>Crispy Maple Bacon Dijon Chicken Sandwich</td>\n",
       "      <td>740</td>\n",
       "      <td>310</td>\n",
       "      <td>35</td>\n",
       "      <td>9.0</td>\n",
       "      <td>0.5</td>\n",
       "      <td>95</td>\n",
       "      <td>1780</td>\n",
       "      <td>69</td>\n",
       "      <td>5.0</td>\n",
       "      <td>14</td>\n",
       "      <td>39.0</td>\n",
       "      <td>4.0</td>\n",
       "      <td>20.0</td>\n",
       "      <td>290.0</td>\n",
       "      <td>Other</td>\n",
       "    </tr>\n",
       "    <tr>\n",
       "      <th>19</th>\n",
       "      <td>20</td>\n",
       "      <td>Mcdonalds</td>\n",
       "      <td>McChicken</td>\n",
       "      <td>350</td>\n",
       "      <td>130</td>\n",
       "      <td>15</td>\n",
       "      <td>3.5</td>\n",
       "      <td>0.0</td>\n",
       "      <td>40</td>\n",
       "      <td>600</td>\n",
       "      <td>40</td>\n",
       "      <td>2.0</td>\n",
       "      <td>5</td>\n",
       "      <td>15.0</td>\n",
       "      <td>2.0</td>\n",
       "      <td>2.0</td>\n",
       "      <td>4.0</td>\n",
       "      <td>Other</td>\n",
       "    </tr>\n",
       "    <tr>\n",
       "      <th>20</th>\n",
       "      <td>21</td>\n",
       "      <td>Mcdonalds</td>\n",
       "      <td>McDouble</td>\n",
       "      <td>380</td>\n",
       "      <td>160</td>\n",
       "      <td>18</td>\n",
       "      <td>8.0</td>\n",
       "      <td>1.0</td>\n",
       "      <td>70</td>\n",
       "      <td>840</td>\n",
       "      <td>34</td>\n",
       "      <td>2.0</td>\n",
       "      <td>7</td>\n",
       "      <td>23.0</td>\n",
       "      <td>10.0</td>\n",
       "      <td>2.0</td>\n",
       "      <td>10.0</td>\n",
       "      <td>Other</td>\n",
       "    </tr>\n",
       "    <tr>\n",
       "      <th>21</th>\n",
       "      <td>22</td>\n",
       "      <td>Mcdonalds</td>\n",
       "      <td>McRib</td>\n",
       "      <td>480</td>\n",
       "      <td>200</td>\n",
       "      <td>22</td>\n",
       "      <td>7.0</td>\n",
       "      <td>0.0</td>\n",
       "      <td>80</td>\n",
       "      <td>870</td>\n",
       "      <td>45</td>\n",
       "      <td>2.0</td>\n",
       "      <td>12</td>\n",
       "      <td>25.0</td>\n",
       "      <td>2.0</td>\n",
       "      <td>2.0</td>\n",
       "      <td>6.0</td>\n",
       "      <td>Other</td>\n",
       "    </tr>\n",
       "    <tr>\n",
       "      <th>22</th>\n",
       "      <td>23</td>\n",
       "      <td>Mcdonalds</td>\n",
       "      <td>Pico Guacamole 1/4 lb Burger</td>\n",
       "      <td>580</td>\n",
       "      <td>300</td>\n",
       "      <td>33</td>\n",
       "      <td>12.0</td>\n",
       "      <td>1.5</td>\n",
       "      <td>95</td>\n",
       "      <td>920</td>\n",
       "      <td>41</td>\n",
       "      <td>4.0</td>\n",
       "      <td>7</td>\n",
       "      <td>29.0</td>\n",
       "      <td>8.0</td>\n",
       "      <td>15.0</td>\n",
       "      <td>15.0</td>\n",
       "      <td>Other</td>\n",
       "    </tr>\n",
       "    <tr>\n",
       "      <th>23</th>\n",
       "      <td>24</td>\n",
       "      <td>Mcdonalds</td>\n",
       "      <td>Grilled Pico Guacamole Chicken Sandwich</td>\n",
       "      <td>520</td>\n",
       "      <td>160</td>\n",
       "      <td>18</td>\n",
       "      <td>6.0</td>\n",
       "      <td>0.0</td>\n",
       "      <td>115</td>\n",
       "      <td>1540</td>\n",
       "      <td>50</td>\n",
       "      <td>4.0</td>\n",
       "      <td>12</td>\n",
       "      <td>40.0</td>\n",
       "      <td>8.0</td>\n",
       "      <td>25.0</td>\n",
       "      <td>30.0</td>\n",
       "      <td>Other</td>\n",
       "    </tr>\n",
       "    <tr>\n",
       "      <th>24</th>\n",
       "      <td>25</td>\n",
       "      <td>Mcdonalds</td>\n",
       "      <td>Crispy Pico Guacamole Chicken Sandwich</td>\n",
       "      <td>680</td>\n",
       "      <td>280</td>\n",
       "      <td>32</td>\n",
       "      <td>7.0</td>\n",
       "      <td>0.0</td>\n",
       "      <td>80</td>\n",
       "      <td>1430</td>\n",
       "      <td>69</td>\n",
       "      <td>6.0</td>\n",
       "      <td>12</td>\n",
       "      <td>31.0</td>\n",
       "      <td>8.0</td>\n",
       "      <td>15.0</td>\n",
       "      <td>30.0</td>\n",
       "      <td>Other</td>\n",
       "    </tr>\n",
       "  </tbody>\n",
       "</table>\n",
       "</div>"
      ],
      "text/plain": [
       "    Unnamed: 0 restaurant                                           item  \\\n",
       "0            1  Mcdonalds               Artisan Grilled Chicken Sandwich   \n",
       "1            2  Mcdonalds                 Single Bacon Smokehouse Burger   \n",
       "2            3  Mcdonalds                 Double Bacon Smokehouse Burger   \n",
       "3            4  Mcdonalds      Grilled Bacon Smokehouse Chicken Sandwich   \n",
       "4            5  Mcdonalds       Crispy Bacon Smokehouse Chicken Sandwich   \n",
       "5            6  Mcdonalds                                        Big Mac   \n",
       "6            7  Mcdonalds                                   Cheeseburger   \n",
       "7            8  Mcdonalds                       Classic Chicken Sandwich   \n",
       "8            9  Mcdonalds                            Double Cheeseburger   \n",
       "9           10  Mcdonalds           Double Quarter PounderÂ® with Cheese   \n",
       "10          11  Mcdonalds                                 Filet-O-FishÂ®   \n",
       "11          12  Mcdonalds                    Garlic White Cheddar Burger   \n",
       "12          13  Mcdonalds  Grilled Garlic White Cheddar Chicken Sandwich   \n",
       "13          14  Mcdonalds   Crispy Garlic White Cheddar Chicken Sandwich   \n",
       "14          15  Mcdonalds                                      Hamburger   \n",
       "15          16  Mcdonalds                                   Lobster Roll   \n",
       "16          17  Mcdonalds                Maple Bacon Dijon 1/4 lb Burger   \n",
       "17          18  Mcdonalds     Grilled Maple Bacon Dijon Chicken Sandwich   \n",
       "18          19  Mcdonalds      Crispy Maple Bacon Dijon Chicken Sandwich   \n",
       "19          20  Mcdonalds                                      McChicken   \n",
       "20          21  Mcdonalds                                       McDouble   \n",
       "21          22  Mcdonalds                                          McRib   \n",
       "22          23  Mcdonalds                   Pico Guacamole 1/4 lb Burger   \n",
       "23          24  Mcdonalds        Grilled Pico Guacamole Chicken Sandwich   \n",
       "24          25  Mcdonalds         Crispy Pico Guacamole Chicken Sandwich   \n",
       "\n",
       "    calories  cal_fat  total_fat  sat_fat  trans_fat  cholesterol  sodium  \\\n",
       "0        380       60          7      2.0        0.0           95    1110   \n",
       "1        840      410         45     17.0        1.5          130    1580   \n",
       "2       1130      600         67     27.0        3.0          220    1920   \n",
       "3        750      280         31     10.0        0.5          155    1940   \n",
       "4        920      410         45     12.0        0.5          120    1980   \n",
       "5        540      250         28     10.0        1.0           80     950   \n",
       "6        300      100         12      5.0        0.5           40     680   \n",
       "7        510      210         24      4.0        0.0           65    1040   \n",
       "8        430      190         21     11.0        1.0           85    1040   \n",
       "9        770      400         45     21.0        2.5          175    1290   \n",
       "10       380      170         18      4.0        0.0           40     640   \n",
       "11       620      300         34     13.0        1.5           95     790   \n",
       "12       530      180         20      7.0        0.0          125    1150   \n",
       "13       700      300         34      9.0        0.0           85    1190   \n",
       "14       250       70          8      3.0        0.0           30     480   \n",
       "15       290       50          5      1.5        0.0           65     630   \n",
       "16       640      330         36     14.0        1.5          110    1260   \n",
       "17       580      190         21      8.0        0.0          135    1890   \n",
       "18       740      310         35      9.0        0.5           95    1780   \n",
       "19       350      130         15      3.5        0.0           40     600   \n",
       "20       380      160         18      8.0        1.0           70     840   \n",
       "21       480      200         22      7.0        0.0           80     870   \n",
       "22       580      300         33     12.0        1.5           95     920   \n",
       "23       520      160         18      6.0        0.0          115    1540   \n",
       "24       680      280         32      7.0        0.0           80    1430   \n",
       "\n",
       "    total_carb  fiber  sugar  protein  vit_a  vit_c  calcium  salad  \n",
       "0           44    3.0     11     37.0    4.0   20.0     20.0  Other  \n",
       "1           62    2.0     18     46.0    6.0   20.0     20.0  Other  \n",
       "2           63    3.0     18     70.0   10.0   20.0     50.0  Other  \n",
       "3           62    2.0     18     55.0    6.0   25.0     20.0  Other  \n",
       "4           81    4.0     18     46.0    6.0   20.0     20.0  Other  \n",
       "5           46    3.0      9     25.0   10.0    2.0     15.0  Other  \n",
       "6           33    2.0      7     15.0   10.0    2.0     10.0  Other  \n",
       "7           49    3.0      6     25.0    0.0    4.0      2.0  Other  \n",
       "8           35    2.0      7     25.0   20.0    4.0     15.0  Other  \n",
       "9           42    3.0     10     51.0   20.0    6.0     20.0  Other  \n",
       "10          38    2.0      5     15.0    2.0    0.0     15.0  Other  \n",
       "11          48    3.0     11     32.0   10.0   10.0     35.0  Other  \n",
       "12          48    3.0     11     42.0   10.0   20.0     35.0  Other  \n",
       "13          67    5.0     11     33.0   10.0   15.0     35.0  Other  \n",
       "14          31    2.0      6     13.0    2.0    2.0      4.0  Other  \n",
       "15          35    2.0      3     24.0    4.0    6.0     15.0  Other  \n",
       "16          40    3.0     10     37.0    6.0   15.0     15.0  Other  \n",
       "17          50    3.0     14     48.0    4.0   30.0     30.0  Other  \n",
       "18          69    5.0     14     39.0    4.0   20.0    290.0  Other  \n",
       "19          40    2.0      5     15.0    2.0    2.0      4.0  Other  \n",
       "20          34    2.0      7     23.0   10.0    2.0     10.0  Other  \n",
       "21          45    2.0     12     25.0    2.0    2.0      6.0  Other  \n",
       "22          41    4.0      7     29.0    8.0   15.0     15.0  Other  \n",
       "23          50    4.0     12     40.0    8.0   25.0     30.0  Other  \n",
       "24          69    6.0     12     31.0    8.0   15.0     30.0  Other  "
      ]
     },
     "execution_count": 3,
     "metadata": {},
     "output_type": "execute_result"
    }
   ],
   "source": [
    "data = pd.read_csv(r\"/kaggle/input/fast-food-calories-data/fastfood_calories.csv\",sep=',',engine='python',encoding='latin1')\n",
    "data.head(25)"
   ]
  },
  {
   "cell_type": "code",
   "execution_count": 4,
   "id": "24e5f5c1",
   "metadata": {
    "execution": {
     "iopub.execute_input": "2023-10-18T06:53:47.911552Z",
     "iopub.status.busy": "2023-10-18T06:53:47.910859Z",
     "iopub.status.idle": "2023-10-18T06:53:47.919079Z",
     "shell.execute_reply": "2023-10-18T06:53:47.918011Z"
    },
    "papermill": {
     "duration": 0.01892,
     "end_time": "2023-10-18T06:53:47.920994",
     "exception": false,
     "start_time": "2023-10-18T06:53:47.902074",
     "status": "completed"
    },
    "tags": []
   },
   "outputs": [
    {
     "data": {
      "text/plain": [
       "Unnamed: 0       0\n",
       "restaurant       0\n",
       "item             0\n",
       "calories         0\n",
       "cal_fat          0\n",
       "total_fat        0\n",
       "sat_fat          0\n",
       "trans_fat        0\n",
       "cholesterol      0\n",
       "sodium           0\n",
       "total_carb       0\n",
       "fiber           12\n",
       "sugar            0\n",
       "protein          1\n",
       "vit_a          214\n",
       "vit_c          210\n",
       "calcium        210\n",
       "salad            0\n",
       "dtype: int64"
      ]
     },
     "execution_count": 4,
     "metadata": {},
     "output_type": "execute_result"
    }
   ],
   "source": [
    "data.isnull().sum()"
   ]
  },
  {
   "cell_type": "code",
   "execution_count": 5,
   "id": "cfc7f894",
   "metadata": {
    "execution": {
     "iopub.execute_input": "2023-10-18T06:53:47.938040Z",
     "iopub.status.busy": "2023-10-18T06:53:47.937700Z",
     "iopub.status.idle": "2023-10-18T06:53:47.944085Z",
     "shell.execute_reply": "2023-10-18T06:53:47.943119Z"
    },
    "papermill": {
     "duration": 0.017269,
     "end_time": "2023-10-18T06:53:47.946094",
     "exception": false,
     "start_time": "2023-10-18T06:53:47.928825",
     "status": "completed"
    },
    "tags": []
   },
   "outputs": [
    {
     "data": {
      "text/plain": [
       "515"
      ]
     },
     "execution_count": 5,
     "metadata": {},
     "output_type": "execute_result"
    }
   ],
   "source": [
    "len(data)"
   ]
  },
  {
   "cell_type": "code",
   "execution_count": 6,
   "id": "af1c25c3",
   "metadata": {
    "execution": {
     "iopub.execute_input": "2023-10-18T06:53:47.963579Z",
     "iopub.status.busy": "2023-10-18T06:53:47.963189Z",
     "iopub.status.idle": "2023-10-18T06:53:47.974156Z",
     "shell.execute_reply": "2023-10-18T06:53:47.973116Z"
    },
    "papermill": {
     "duration": 0.022374,
     "end_time": "2023-10-18T06:53:47.976258",
     "exception": false,
     "start_time": "2023-10-18T06:53:47.953884",
     "status": "completed"
    },
    "tags": []
   },
   "outputs": [
    {
     "data": {
      "text/plain": [
       "array(['Other'], dtype=object)"
      ]
     },
     "execution_count": 6,
     "metadata": {},
     "output_type": "execute_result"
    }
   ],
   "source": [
    "data['salad'].unique()"
   ]
  },
  {
   "cell_type": "code",
   "execution_count": 7,
   "id": "cc45c603",
   "metadata": {
    "execution": {
     "iopub.execute_input": "2023-10-18T06:53:47.993720Z",
     "iopub.status.busy": "2023-10-18T06:53:47.993310Z",
     "iopub.status.idle": "2023-10-18T06:53:47.999523Z",
     "shell.execute_reply": "2023-10-18T06:53:47.998816Z"
    },
    "papermill": {
     "duration": 0.01708,
     "end_time": "2023-10-18T06:53:48.001252",
     "exception": false,
     "start_time": "2023-10-18T06:53:47.984172",
     "status": "completed"
    },
    "tags": []
   },
   "outputs": [
    {
     "data": {
      "text/plain": [
       "Index(['Unnamed: 0', 'restaurant', 'item', 'calories', 'cal_fat', 'total_fat',\n",
       "       'sat_fat', 'trans_fat', 'cholesterol', 'sodium', 'total_carb', 'fiber',\n",
       "       'sugar', 'protein', 'vit_a', 'vit_c', 'calcium', 'salad'],\n",
       "      dtype='object')"
      ]
     },
     "execution_count": 7,
     "metadata": {},
     "output_type": "execute_result"
    }
   ],
   "source": [
    "data.columns"
   ]
  },
  {
   "cell_type": "code",
   "execution_count": 8,
   "id": "8e7b0c44",
   "metadata": {
    "execution": {
     "iopub.execute_input": "2023-10-18T06:53:48.018578Z",
     "iopub.status.busy": "2023-10-18T06:53:48.018181Z",
     "iopub.status.idle": "2023-10-18T06:53:48.029644Z",
     "shell.execute_reply": "2023-10-18T06:53:48.028492Z"
    },
    "papermill": {
     "duration": 0.022446,
     "end_time": "2023-10-18T06:53:48.031638",
     "exception": false,
     "start_time": "2023-10-18T06:53:48.009192",
     "status": "completed"
    },
    "tags": []
   },
   "outputs": [],
   "source": [
    "data = data.drop(columns=['Unnamed: 0','salad'])"
   ]
  },
  {
   "cell_type": "code",
   "execution_count": 9,
   "id": "54340eca",
   "metadata": {
    "execution": {
     "iopub.execute_input": "2023-10-18T06:53:48.049721Z",
     "iopub.status.busy": "2023-10-18T06:53:48.048961Z",
     "iopub.status.idle": "2023-10-18T06:53:48.056020Z",
     "shell.execute_reply": "2023-10-18T06:53:48.055243Z"
    },
    "papermill": {
     "duration": 0.018324,
     "end_time": "2023-10-18T06:53:48.058079",
     "exception": false,
     "start_time": "2023-10-18T06:53:48.039755",
     "status": "completed"
    },
    "tags": []
   },
   "outputs": [],
   "source": [
    "data.dropna(subset=['protein','fiber'],inplace=True)"
   ]
  },
  {
   "cell_type": "code",
   "execution_count": 10,
   "id": "8e4fbcf3",
   "metadata": {
    "execution": {
     "iopub.execute_input": "2023-10-18T06:53:48.075686Z",
     "iopub.status.busy": "2023-10-18T06:53:48.075351Z",
     "iopub.status.idle": "2023-10-18T06:53:48.081123Z",
     "shell.execute_reply": "2023-10-18T06:53:48.080022Z"
    },
    "papermill": {
     "duration": 0.01692,
     "end_time": "2023-10-18T06:53:48.083125",
     "exception": false,
     "start_time": "2023-10-18T06:53:48.066205",
     "status": "completed"
    },
    "tags": []
   },
   "outputs": [
    {
     "data": {
      "text/plain": [
       "503"
      ]
     },
     "execution_count": 10,
     "metadata": {},
     "output_type": "execute_result"
    }
   ],
   "source": [
    "len(data)"
   ]
  },
  {
   "cell_type": "code",
   "execution_count": 11,
   "id": "a6adf002",
   "metadata": {
    "execution": {
     "iopub.execute_input": "2023-10-18T06:53:48.100782Z",
     "iopub.status.busy": "2023-10-18T06:53:48.100451Z",
     "iopub.status.idle": "2023-10-18T06:53:48.108382Z",
     "shell.execute_reply": "2023-10-18T06:53:48.107210Z"
    },
    "papermill": {
     "duration": 0.019132,
     "end_time": "2023-10-18T06:53:48.110302",
     "exception": false,
     "start_time": "2023-10-18T06:53:48.091170",
     "status": "completed"
    },
    "tags": []
   },
   "outputs": [
    {
     "data": {
      "text/plain": [
       "restaurant       0\n",
       "item             0\n",
       "calories         0\n",
       "cal_fat          0\n",
       "total_fat        0\n",
       "sat_fat          0\n",
       "trans_fat        0\n",
       "cholesterol      0\n",
       "sodium           0\n",
       "total_carb       0\n",
       "fiber            0\n",
       "sugar            0\n",
       "protein          0\n",
       "vit_a          202\n",
       "vit_c          198\n",
       "calcium        198\n",
       "dtype: int64"
      ]
     },
     "execution_count": 11,
     "metadata": {},
     "output_type": "execute_result"
    }
   ],
   "source": [
    "data.isnull().sum()"
   ]
  },
  {
   "cell_type": "markdown",
   "id": "ab26634e",
   "metadata": {
    "papermill": {
     "duration": 0.007657,
     "end_time": "2023-10-18T06:53:48.125995",
     "exception": false,
     "start_time": "2023-10-18T06:53:48.118338",
     "status": "completed"
    },
    "tags": []
   },
   "source": [
    "##### HANDLING MISSING VALUES"
   ]
  },
  {
   "cell_type": "code",
   "execution_count": 12,
   "id": "77276a28",
   "metadata": {
    "execution": {
     "iopub.execute_input": "2023-10-18T06:53:48.143619Z",
     "iopub.status.busy": "2023-10-18T06:53:48.143267Z",
     "iopub.status.idle": "2023-10-18T06:53:48.152975Z",
     "shell.execute_reply": "2023-10-18T06:53:48.152036Z"
    },
    "papermill": {
     "duration": 0.021052,
     "end_time": "2023-10-18T06:53:48.155103",
     "exception": false,
     "start_time": "2023-10-18T06:53:48.134051",
     "status": "completed"
    },
    "tags": []
   },
   "outputs": [],
   "source": [
    "# Specifying the columns you want to fill\n",
    "columns_to_fill = ['vit_a', 'vit_c', 'calcium']\n",
    "\n",
    "# Fill null values in the specified columns with the mean\n",
    "data[columns_to_fill] = data[columns_to_fill].fillna(data[columns_to_fill].mean())"
   ]
  },
  {
   "cell_type": "code",
   "execution_count": 13,
   "id": "777228a9",
   "metadata": {
    "execution": {
     "iopub.execute_input": "2023-10-18T06:53:48.172997Z",
     "iopub.status.busy": "2023-10-18T06:53:48.172661Z",
     "iopub.status.idle": "2023-10-18T06:53:48.181197Z",
     "shell.execute_reply": "2023-10-18T06:53:48.180135Z"
    },
    "papermill": {
     "duration": 0.019932,
     "end_time": "2023-10-18T06:53:48.183279",
     "exception": false,
     "start_time": "2023-10-18T06:53:48.163347",
     "status": "completed"
    },
    "tags": []
   },
   "outputs": [
    {
     "data": {
      "text/plain": [
       "restaurant     0\n",
       "item           0\n",
       "calories       0\n",
       "cal_fat        0\n",
       "total_fat      0\n",
       "sat_fat        0\n",
       "trans_fat      0\n",
       "cholesterol    0\n",
       "sodium         0\n",
       "total_carb     0\n",
       "fiber          0\n",
       "sugar          0\n",
       "protein        0\n",
       "vit_a          0\n",
       "vit_c          0\n",
       "calcium        0\n",
       "dtype: int64"
      ]
     },
     "execution_count": 13,
     "metadata": {},
     "output_type": "execute_result"
    }
   ],
   "source": [
    "data.isnull().sum()"
   ]
  },
  {
   "cell_type": "code",
   "execution_count": 14,
   "id": "b9793ea0",
   "metadata": {
    "execution": {
     "iopub.execute_input": "2023-10-18T06:53:48.201421Z",
     "iopub.status.busy": "2023-10-18T06:53:48.201058Z",
     "iopub.status.idle": "2023-10-18T06:53:48.206780Z",
     "shell.execute_reply": "2023-10-18T06:53:48.205788Z"
    },
    "papermill": {
     "duration": 0.017246,
     "end_time": "2023-10-18T06:53:48.208839",
     "exception": false,
     "start_time": "2023-10-18T06:53:48.191593",
     "status": "completed"
    },
    "tags": []
   },
   "outputs": [
    {
     "data": {
      "text/plain": [
       "503"
      ]
     },
     "execution_count": 14,
     "metadata": {},
     "output_type": "execute_result"
    }
   ],
   "source": [
    "len(data)"
   ]
  },
  {
   "cell_type": "code",
   "execution_count": 15,
   "id": "e71b7336",
   "metadata": {
    "execution": {
     "iopub.execute_input": "2023-10-18T06:53:48.226955Z",
     "iopub.status.busy": "2023-10-18T06:53:48.226427Z",
     "iopub.status.idle": "2023-10-18T06:53:48.243394Z",
     "shell.execute_reply": "2023-10-18T06:53:48.242229Z"
    },
    "papermill": {
     "duration": 0.028164,
     "end_time": "2023-10-18T06:53:48.245306",
     "exception": false,
     "start_time": "2023-10-18T06:53:48.217142",
     "status": "completed"
    },
    "tags": []
   },
   "outputs": [
    {
     "data": {
      "text/html": [
       "<div>\n",
       "<style scoped>\n",
       "    .dataframe tbody tr th:only-of-type {\n",
       "        vertical-align: middle;\n",
       "    }\n",
       "\n",
       "    .dataframe tbody tr th {\n",
       "        vertical-align: top;\n",
       "    }\n",
       "\n",
       "    .dataframe thead th {\n",
       "        text-align: right;\n",
       "    }\n",
       "</style>\n",
       "<table border=\"1\" class=\"dataframe\">\n",
       "  <thead>\n",
       "    <tr style=\"text-align: right;\">\n",
       "      <th></th>\n",
       "      <th>restaurant</th>\n",
       "      <th>item</th>\n",
       "      <th>calories</th>\n",
       "      <th>cal_fat</th>\n",
       "      <th>total_fat</th>\n",
       "      <th>sat_fat</th>\n",
       "      <th>trans_fat</th>\n",
       "      <th>cholesterol</th>\n",
       "      <th>sodium</th>\n",
       "      <th>total_carb</th>\n",
       "      <th>fiber</th>\n",
       "      <th>sugar</th>\n",
       "      <th>protein</th>\n",
       "      <th>vit_a</th>\n",
       "      <th>vit_c</th>\n",
       "      <th>calcium</th>\n",
       "    </tr>\n",
       "  </thead>\n",
       "  <tbody>\n",
       "    <tr>\n",
       "      <th>0</th>\n",
       "      <td>Mcdonalds</td>\n",
       "      <td>Artisan Grilled Chicken Sandwich</td>\n",
       "      <td>380</td>\n",
       "      <td>60</td>\n",
       "      <td>7</td>\n",
       "      <td>2.0</td>\n",
       "      <td>0.0</td>\n",
       "      <td>95</td>\n",
       "      <td>1110</td>\n",
       "      <td>44</td>\n",
       "      <td>3.0</td>\n",
       "      <td>11</td>\n",
       "      <td>37.0</td>\n",
       "      <td>4.0</td>\n",
       "      <td>20.0</td>\n",
       "      <td>20.0</td>\n",
       "    </tr>\n",
       "    <tr>\n",
       "      <th>1</th>\n",
       "      <td>Mcdonalds</td>\n",
       "      <td>Single Bacon Smokehouse Burger</td>\n",
       "      <td>840</td>\n",
       "      <td>410</td>\n",
       "      <td>45</td>\n",
       "      <td>17.0</td>\n",
       "      <td>1.5</td>\n",
       "      <td>130</td>\n",
       "      <td>1580</td>\n",
       "      <td>62</td>\n",
       "      <td>2.0</td>\n",
       "      <td>18</td>\n",
       "      <td>46.0</td>\n",
       "      <td>6.0</td>\n",
       "      <td>20.0</td>\n",
       "      <td>20.0</td>\n",
       "    </tr>\n",
       "    <tr>\n",
       "      <th>2</th>\n",
       "      <td>Mcdonalds</td>\n",
       "      <td>Double Bacon Smokehouse Burger</td>\n",
       "      <td>1130</td>\n",
       "      <td>600</td>\n",
       "      <td>67</td>\n",
       "      <td>27.0</td>\n",
       "      <td>3.0</td>\n",
       "      <td>220</td>\n",
       "      <td>1920</td>\n",
       "      <td>63</td>\n",
       "      <td>3.0</td>\n",
       "      <td>18</td>\n",
       "      <td>70.0</td>\n",
       "      <td>10.0</td>\n",
       "      <td>20.0</td>\n",
       "      <td>50.0</td>\n",
       "    </tr>\n",
       "    <tr>\n",
       "      <th>3</th>\n",
       "      <td>Mcdonalds</td>\n",
       "      <td>Grilled Bacon Smokehouse Chicken Sandwich</td>\n",
       "      <td>750</td>\n",
       "      <td>280</td>\n",
       "      <td>31</td>\n",
       "      <td>10.0</td>\n",
       "      <td>0.5</td>\n",
       "      <td>155</td>\n",
       "      <td>1940</td>\n",
       "      <td>62</td>\n",
       "      <td>2.0</td>\n",
       "      <td>18</td>\n",
       "      <td>55.0</td>\n",
       "      <td>6.0</td>\n",
       "      <td>25.0</td>\n",
       "      <td>20.0</td>\n",
       "    </tr>\n",
       "    <tr>\n",
       "      <th>4</th>\n",
       "      <td>Mcdonalds</td>\n",
       "      <td>Crispy Bacon Smokehouse Chicken Sandwich</td>\n",
       "      <td>920</td>\n",
       "      <td>410</td>\n",
       "      <td>45</td>\n",
       "      <td>12.0</td>\n",
       "      <td>0.5</td>\n",
       "      <td>120</td>\n",
       "      <td>1980</td>\n",
       "      <td>81</td>\n",
       "      <td>4.0</td>\n",
       "      <td>18</td>\n",
       "      <td>46.0</td>\n",
       "      <td>6.0</td>\n",
       "      <td>20.0</td>\n",
       "      <td>20.0</td>\n",
       "    </tr>\n",
       "  </tbody>\n",
       "</table>\n",
       "</div>"
      ],
      "text/plain": [
       "  restaurant                                       item  calories  cal_fat  \\\n",
       "0  Mcdonalds           Artisan Grilled Chicken Sandwich       380       60   \n",
       "1  Mcdonalds             Single Bacon Smokehouse Burger       840      410   \n",
       "2  Mcdonalds             Double Bacon Smokehouse Burger      1130      600   \n",
       "3  Mcdonalds  Grilled Bacon Smokehouse Chicken Sandwich       750      280   \n",
       "4  Mcdonalds   Crispy Bacon Smokehouse Chicken Sandwich       920      410   \n",
       "\n",
       "   total_fat  sat_fat  trans_fat  cholesterol  sodium  total_carb  fiber  \\\n",
       "0          7      2.0        0.0           95    1110          44    3.0   \n",
       "1         45     17.0        1.5          130    1580          62    2.0   \n",
       "2         67     27.0        3.0          220    1920          63    3.0   \n",
       "3         31     10.0        0.5          155    1940          62    2.0   \n",
       "4         45     12.0        0.5          120    1980          81    4.0   \n",
       "\n",
       "   sugar  protein  vit_a  vit_c  calcium  \n",
       "0     11     37.0    4.0   20.0     20.0  \n",
       "1     18     46.0    6.0   20.0     20.0  \n",
       "2     18     70.0   10.0   20.0     50.0  \n",
       "3     18     55.0    6.0   25.0     20.0  \n",
       "4     18     46.0    6.0   20.0     20.0  "
      ]
     },
     "execution_count": 15,
     "metadata": {},
     "output_type": "execute_result"
    }
   ],
   "source": [
    "data.head()"
   ]
  },
  {
   "cell_type": "code",
   "execution_count": 16,
   "id": "8ba05085",
   "metadata": {
    "execution": {
     "iopub.execute_input": "2023-10-18T06:53:48.263855Z",
     "iopub.status.busy": "2023-10-18T06:53:48.263264Z",
     "iopub.status.idle": "2023-10-18T06:53:48.485107Z",
     "shell.execute_reply": "2023-10-18T06:53:48.484067Z"
    },
    "papermill": {
     "duration": 0.233635,
     "end_time": "2023-10-18T06:53:48.487305",
     "exception": false,
     "start_time": "2023-10-18T06:53:48.253670",
     "status": "completed"
    },
    "tags": []
   },
   "outputs": [
    {
     "data": {
      "image/png": "[encoded data removed]",
      "text/plain": [
       "<Figure size 500x500 with 1 Axes>"
      ]
     },
     "metadata": {},
     "output_type": "display_data"
    }
   ],
   "source": [
    "plt.figure(figsize=(5,5))\n",
    "columns = ['cal_fat', 'calcium', 'cholesterol', 'sodium','total_carb', 'total_fat','protein', 'vit_c', 'sugar']\n",
    "row = data.loc[0]\n",
    "colors = ['cyan','green','teal','royalblue','navy','blue','seagreen','lightseagreen','deepskyblue','turqouise','lightblue']\n",
    "size = {'fontsize': 7}\n",
    "plt.pie(row[columns], colors=colors, labels=columns, autopct='%1.1f%%',textprops = size)\n",
    "plt.title(\"Pie chart for the nutrients content in the Artisan Grilled Chicken Sandwich from Mcdonalds\")\n",
    "plt.show()"
   ]
  },
  {
   "cell_type": "code",
   "execution_count": 17,
   "id": "08dcc252",
   "metadata": {
    "execution": {
     "iopub.execute_input": "2023-10-18T06:53:48.507623Z",
     "iopub.status.busy": "2023-10-18T06:53:48.507038Z",
     "iopub.status.idle": "2023-10-18T06:53:48.512937Z",
     "shell.execute_reply": "2023-10-18T06:53:48.511697Z"
    },
    "papermill": {
     "duration": 0.018396,
     "end_time": "2023-10-18T06:53:48.514980",
     "exception": false,
     "start_time": "2023-10-18T06:53:48.496584",
     "status": "completed"
    },
    "tags": []
   },
   "outputs": [],
   "source": [
    "data = data.drop(columns = ['item'])"
   ]
  },
  {
   "cell_type": "code",
   "execution_count": 18,
   "id": "be46e2ec",
   "metadata": {
    "execution": {
     "iopub.execute_input": "2023-10-18T06:53:48.535371Z",
     "iopub.status.busy": "2023-10-18T06:53:48.534643Z",
     "iopub.status.idle": "2023-10-18T06:53:48.935178Z",
     "shell.execute_reply": "2023-10-18T06:53:48.934179Z"
    },
    "papermill": {
     "duration": 0.413462,
     "end_time": "2023-10-18T06:53:48.937724",
     "exception": false,
     "start_time": "2023-10-18T06:53:48.524262",
     "status": "completed"
    },
    "tags": []
   },
   "outputs": [
    {
     "data": {
      "image/png": "[encoded data removed]",
      "text/plain": [
       "<Figure size 640x480 with 1 Axes>"
      ]
     },
     "metadata": {},
     "output_type": "display_data"
    }
   ],
   "source": [
    "sns.scatterplot(x='calories', y='restaurant', data=data, hue='restaurant', palette='colorblind')\n",
    "\n",
    "plt.xlabel('Calories')\n",
    "plt.ylabel('Restaurant')\n",
    "plt.title('Restaurant vs Calories')\n",
    "\n",
    "plt.show()"
   ]
  },
  {
   "cell_type": "code",
   "execution_count": 19,
   "id": "913c76cf",
   "metadata": {
    "execution": {
     "iopub.execute_input": "2023-10-18T06:53:48.959684Z",
     "iopub.status.busy": "2023-10-18T06:53:48.959349Z",
     "iopub.status.idle": "2023-10-18T06:53:48.965812Z",
     "shell.execute_reply": "2023-10-18T06:53:48.964797Z"
    },
    "papermill": {
     "duration": 0.020107,
     "end_time": "2023-10-18T06:53:48.968056",
     "exception": false,
     "start_time": "2023-10-18T06:53:48.947949",
     "status": "completed"
    },
    "tags": []
   },
   "outputs": [
    {
     "data": {
      "text/plain": [
       "array(['Mcdonalds', 'Chick Fil-A', 'Sonic', 'Arbys', 'Burger King',\n",
       "       'Dairy Queen', 'Subway', 'Taco Bell'], dtype=object)"
      ]
     },
     "execution_count": 19,
     "metadata": {},
     "output_type": "execute_result"
    }
   ],
   "source": [
    "data['restaurant'].unique()"
   ]
  },
  {
   "cell_type": "code",
   "execution_count": 20,
   "id": "19fab68c",
   "metadata": {
    "execution": {
     "iopub.execute_input": "2023-10-18T06:53:48.992100Z",
     "iopub.status.busy": "2023-10-18T06:53:48.991737Z",
     "iopub.status.idle": "2023-10-18T06:53:48.998170Z",
     "shell.execute_reply": "2023-10-18T06:53:48.997479Z"
    },
    "papermill": {
     "duration": 0.020168,
     "end_time": "2023-10-18T06:53:48.999966",
     "exception": false,
     "start_time": "2023-10-18T06:53:48.979798",
     "status": "completed"
    },
    "tags": []
   },
   "outputs": [],
   "source": [
    "replace = {'Mcdonalds':1, 'Chick Fil-A':2, 'Sonic':3, 'Arbys':4, 'Burger King':5,\n",
    "       'Dairy Queen':6, 'Subway':7, 'Taco Bell':8}\n",
    "data['restaurant'] = data['restaurant'].replace(replace)"
   ]
  },
  {
   "cell_type": "code",
   "execution_count": 21,
   "id": "39a111bd",
   "metadata": {
    "execution": {
     "iopub.execute_input": "2023-10-18T06:53:49.023104Z",
     "iopub.status.busy": "2023-10-18T06:53:49.022414Z",
     "iopub.status.idle": "2023-10-18T06:53:49.030161Z",
     "shell.execute_reply": "2023-10-18T06:53:49.029155Z"
    },
    "papermill": {
     "duration": 0.021623,
     "end_time": "2023-10-18T06:53:49.032322",
     "exception": false,
     "start_time": "2023-10-18T06:53:49.010699",
     "status": "completed"
    },
    "tags": []
   },
   "outputs": [
    {
     "data": {
      "text/plain": [
       "array([1, 2, 3, 4, 5, 6, 7, 8])"
      ]
     },
     "execution_count": 21,
     "metadata": {},
     "output_type": "execute_result"
    }
   ],
   "source": [
    "data['restaurant'].unique()"
   ]
  },
  {
   "cell_type": "code",
   "execution_count": 22,
   "id": "c9893e5e",
   "metadata": {
    "execution": {
     "iopub.execute_input": "2023-10-18T06:53:49.055381Z",
     "iopub.status.busy": "2023-10-18T06:53:49.054984Z",
     "iopub.status.idle": "2023-10-18T06:53:49.072085Z",
     "shell.execute_reply": "2023-10-18T06:53:49.071122Z"
    },
    "papermill": {
     "duration": 0.031087,
     "end_time": "2023-10-18T06:53:49.074342",
     "exception": false,
     "start_time": "2023-10-18T06:53:49.043255",
     "status": "completed"
    },
    "tags": []
   },
   "outputs": [
    {
     "data": {
      "text/html": [
       "<div>\n",
       "<style scoped>\n",
       "    .dataframe tbody tr th:only-of-type {\n",
       "        vertical-align: middle;\n",
       "    }\n",
       "\n",
       "    .dataframe tbody tr th {\n",
       "        vertical-align: top;\n",
       "    }\n",
       "\n",
       "    .dataframe thead th {\n",
       "        text-align: right;\n",
       "    }\n",
       "</style>\n",
       "<table border=\"1\" class=\"dataframe\">\n",
       "  <thead>\n",
       "    <tr style=\"text-align: right;\">\n",
       "      <th></th>\n",
       "      <th>restaurant</th>\n",
       "      <th>calories</th>\n",
       "      <th>cal_fat</th>\n",
       "      <th>total_fat</th>\n",
       "      <th>sat_fat</th>\n",
       "      <th>trans_fat</th>\n",
       "      <th>cholesterol</th>\n",
       "      <th>sodium</th>\n",
       "      <th>total_carb</th>\n",
       "      <th>fiber</th>\n",
       "      <th>sugar</th>\n",
       "      <th>protein</th>\n",
       "      <th>vit_a</th>\n",
       "      <th>vit_c</th>\n",
       "      <th>calcium</th>\n",
       "    </tr>\n",
       "  </thead>\n",
       "  <tbody>\n",
       "    <tr>\n",
       "      <th>0</th>\n",
       "      <td>1</td>\n",
       "      <td>380</td>\n",
       "      <td>60</td>\n",
       "      <td>7</td>\n",
       "      <td>2.0</td>\n",
       "      <td>0.0</td>\n",
       "      <td>95</td>\n",
       "      <td>1110</td>\n",
       "      <td>44</td>\n",
       "      <td>3.0</td>\n",
       "      <td>11</td>\n",
       "      <td>37.0</td>\n",
       "      <td>4.0</td>\n",
       "      <td>20.0</td>\n",
       "      <td>20.0</td>\n",
       "    </tr>\n",
       "    <tr>\n",
       "      <th>1</th>\n",
       "      <td>1</td>\n",
       "      <td>840</td>\n",
       "      <td>410</td>\n",
       "      <td>45</td>\n",
       "      <td>17.0</td>\n",
       "      <td>1.5</td>\n",
       "      <td>130</td>\n",
       "      <td>1580</td>\n",
       "      <td>62</td>\n",
       "      <td>2.0</td>\n",
       "      <td>18</td>\n",
       "      <td>46.0</td>\n",
       "      <td>6.0</td>\n",
       "      <td>20.0</td>\n",
       "      <td>20.0</td>\n",
       "    </tr>\n",
       "    <tr>\n",
       "      <th>2</th>\n",
       "      <td>1</td>\n",
       "      <td>1130</td>\n",
       "      <td>600</td>\n",
       "      <td>67</td>\n",
       "      <td>27.0</td>\n",
       "      <td>3.0</td>\n",
       "      <td>220</td>\n",
       "      <td>1920</td>\n",
       "      <td>63</td>\n",
       "      <td>3.0</td>\n",
       "      <td>18</td>\n",
       "      <td>70.0</td>\n",
       "      <td>10.0</td>\n",
       "      <td>20.0</td>\n",
       "      <td>50.0</td>\n",
       "    </tr>\n",
       "    <tr>\n",
       "      <th>3</th>\n",
       "      <td>1</td>\n",
       "      <td>750</td>\n",
       "      <td>280</td>\n",
       "      <td>31</td>\n",
       "      <td>10.0</td>\n",
       "      <td>0.5</td>\n",
       "      <td>155</td>\n",
       "      <td>1940</td>\n",
       "      <td>62</td>\n",
       "      <td>2.0</td>\n",
       "      <td>18</td>\n",
       "      <td>55.0</td>\n",
       "      <td>6.0</td>\n",
       "      <td>25.0</td>\n",
       "      <td>20.0</td>\n",
       "    </tr>\n",
       "    <tr>\n",
       "      <th>4</th>\n",
       "      <td>1</td>\n",
       "      <td>920</td>\n",
       "      <td>410</td>\n",
       "      <td>45</td>\n",
       "      <td>12.0</td>\n",
       "      <td>0.5</td>\n",
       "      <td>120</td>\n",
       "      <td>1980</td>\n",
       "      <td>81</td>\n",
       "      <td>4.0</td>\n",
       "      <td>18</td>\n",
       "      <td>46.0</td>\n",
       "      <td>6.0</td>\n",
       "      <td>20.0</td>\n",
       "      <td>20.0</td>\n",
       "    </tr>\n",
       "  </tbody>\n",
       "</table>\n",
       "</div>"
      ],
      "text/plain": [
       "   restaurant  calories  cal_fat  total_fat  sat_fat  trans_fat  cholesterol  \\\n",
       "0           1       380       60          7      2.0        0.0           95   \n",
       "1           1       840      410         45     17.0        1.5          130   \n",
       "2           1      1130      600         67     27.0        3.0          220   \n",
       "3           1       750      280         31     10.0        0.5          155   \n",
       "4           1       920      410         45     12.0        0.5          120   \n",
       "\n",
       "   sodium  total_carb  fiber  sugar  protein  vit_a  vit_c  calcium  \n",
       "0    1110          44    3.0     11     37.0    4.0   20.0     20.0  \n",
       "1    1580          62    2.0     18     46.0    6.0   20.0     20.0  \n",
       "2    1920          63    3.0     18     70.0   10.0   20.0     50.0  \n",
       "3    1940          62    2.0     18     55.0    6.0   25.0     20.0  \n",
       "4    1980          81    4.0     18     46.0    6.0   20.0     20.0  "
      ]
     },
     "execution_count": 22,
     "metadata": {},
     "output_type": "execute_result"
    }
   ],
   "source": [
    "data.head()"
   ]
  },
  {
   "cell_type": "code",
   "execution_count": 23,
   "id": "cf7d4f4a",
   "metadata": {
    "execution": {
     "iopub.execute_input": "2023-10-18T06:53:49.157327Z",
     "iopub.status.busy": "2023-10-18T06:53:49.156260Z",
     "iopub.status.idle": "2023-10-18T06:53:49.165225Z",
     "shell.execute_reply": "2023-10-18T06:53:49.164419Z"
    },
    "papermill": {
     "duration": 0.023888,
     "end_time": "2023-10-18T06:53:49.167065",
     "exception": false,
     "start_time": "2023-10-18T06:53:49.143177",
     "status": "completed"
    },
    "tags": []
   },
   "outputs": [
    {
     "data": {
      "text/plain": [
       "restaurant     0\n",
       "calories       0\n",
       "cal_fat        0\n",
       "total_fat      0\n",
       "sat_fat        0\n",
       "trans_fat      0\n",
       "cholesterol    0\n",
       "sodium         0\n",
       "total_carb     0\n",
       "fiber          0\n",
       "sugar          0\n",
       "protein        0\n",
       "vit_a          0\n",
       "vit_c          0\n",
       "calcium        0\n",
       "dtype: int64"
      ]
     },
     "execution_count": 23,
     "metadata": {},
     "output_type": "execute_result"
    }
   ],
   "source": [
    "data.isnull().sum()"
   ]
  },
  {
   "cell_type": "code",
   "execution_count": 24,
   "id": "37723e5f",
   "metadata": {
    "execution": {
     "iopub.execute_input": "2023-10-18T06:53:49.191279Z",
     "iopub.status.busy": "2023-10-18T06:53:49.190609Z",
     "iopub.status.idle": "2023-10-18T06:53:49.891703Z",
     "shell.execute_reply": "2023-10-18T06:53:49.890675Z"
    },
    "papermill": {
     "duration": 0.715647,
     "end_time": "2023-10-18T06:53:49.893814",
     "exception": false,
     "start_time": "2023-10-18T06:53:49.178167",
     "status": "completed"
    },
    "tags": []
   },
   "outputs": [
    {
     "data": {
      "image/png": "[encoded data removed]",
      "text/plain": [
       "<Figure size 1000x800 with 2 Axes>"
      ]
     },
     "metadata": {},
     "output_type": "display_data"
    }
   ],
   "source": [
    "columns_to_plot = ['calories', 'cal_fat', 'trans_fat', 'sat_fat', 'calcium', 'fiber', 'cholesterol', 'sodium','total_carb', 'total_fat','protein', 'vit_a', 'vit_c', 'sugar']\n",
    "data_to_plot = data[columns_to_plot]\n",
    "plt.figure(figsize=(10, 8))\n",
    "sns.heatmap(data_to_plot.corr(), annot=True, cmap='coolwarm', linewidths=0.5)\n",
    "plt.title('Correlation Matrix of calories and nutrients')\n",
    "plt.show()"
   ]
  },
  {
   "cell_type": "code",
   "execution_count": 25,
   "id": "eba7f786",
   "metadata": {
    "execution": {
     "iopub.execute_input": "2023-10-18T06:53:49.923116Z",
     "iopub.status.busy": "2023-10-18T06:53:49.922199Z",
     "iopub.status.idle": "2023-10-18T06:53:49.929627Z",
     "shell.execute_reply": "2023-10-18T06:53:49.928731Z"
    },
    "papermill": {
     "duration": 0.024107,
     "end_time": "2023-10-18T06:53:49.931437",
     "exception": false,
     "start_time": "2023-10-18T06:53:49.907330",
     "status": "completed"
    },
    "tags": []
   },
   "outputs": [
    {
     "data": {
      "text/plain": [
       "0       380\n",
       "1       840\n",
       "2      1130\n",
       "3       750\n",
       "4       920\n",
       "       ... \n",
       "510     780\n",
       "511     580\n",
       "512     780\n",
       "513     720\n",
       "514     720\n",
       "Name: calories, Length: 503, dtype: int64"
      ]
     },
     "execution_count": 25,
     "metadata": {},
     "output_type": "execute_result"
    }
   ],
   "source": [
    "target = data.calories\n",
    "target"
   ]
  },
  {
   "cell_type": "code",
   "execution_count": 26,
   "id": "f11f8bfd",
   "metadata": {
    "execution": {
     "iopub.execute_input": "2023-10-18T06:53:49.961264Z",
     "iopub.status.busy": "2023-10-18T06:53:49.960895Z",
     "iopub.status.idle": "2023-10-18T06:53:49.966447Z",
     "shell.execute_reply": "2023-10-18T06:53:49.965432Z"
    },
    "papermill": {
     "duration": 0.022914,
     "end_time": "2023-10-18T06:53:49.968285",
     "exception": false,
     "start_time": "2023-10-18T06:53:49.945371",
     "status": "completed"
    },
    "tags": []
   },
   "outputs": [],
   "source": [
    "data = data.drop(columns = ['calories'])"
   ]
  },
  {
   "cell_type": "code",
   "execution_count": 27,
   "id": "d46f3f87",
   "metadata": {
    "execution": {
     "iopub.execute_input": "2023-10-18T06:53:49.997484Z",
     "iopub.status.busy": "2023-10-18T06:53:49.996859Z",
     "iopub.status.idle": "2023-10-18T06:53:50.012343Z",
     "shell.execute_reply": "2023-10-18T06:53:50.011295Z"
    },
    "papermill": {
     "duration": 0.032158,
     "end_time": "2023-10-18T06:53:50.014158",
     "exception": false,
     "start_time": "2023-10-18T06:53:49.982000",
     "status": "completed"
    },
    "tags": []
   },
   "outputs": [
    {
     "data": {
      "text/html": [
       "<div>\n",
       "<style scoped>\n",
       "    .dataframe tbody tr th:only-of-type {\n",
       "        vertical-align: middle;\n",
       "    }\n",
       "\n",
       "    .dataframe tbody tr th {\n",
       "        vertical-align: top;\n",
       "    }\n",
       "\n",
       "    .dataframe thead th {\n",
       "        text-align: right;\n",
       "    }\n",
       "</style>\n",
       "<table border=\"1\" class=\"dataframe\">\n",
       "  <thead>\n",
       "    <tr style=\"text-align: right;\">\n",
       "      <th></th>\n",
       "      <th>restaurant</th>\n",
       "      <th>cal_fat</th>\n",
       "      <th>total_fat</th>\n",
       "      <th>sat_fat</th>\n",
       "      <th>trans_fat</th>\n",
       "      <th>cholesterol</th>\n",
       "      <th>sodium</th>\n",
       "      <th>total_carb</th>\n",
       "      <th>fiber</th>\n",
       "      <th>sugar</th>\n",
       "      <th>protein</th>\n",
       "      <th>vit_a</th>\n",
       "      <th>vit_c</th>\n",
       "      <th>calcium</th>\n",
       "    </tr>\n",
       "  </thead>\n",
       "  <tbody>\n",
       "    <tr>\n",
       "      <th>0</th>\n",
       "      <td>1</td>\n",
       "      <td>60</td>\n",
       "      <td>7</td>\n",
       "      <td>2.0</td>\n",
       "      <td>0.0</td>\n",
       "      <td>95</td>\n",
       "      <td>1110</td>\n",
       "      <td>44</td>\n",
       "      <td>3.0</td>\n",
       "      <td>11</td>\n",
       "      <td>37.0</td>\n",
       "      <td>4.0</td>\n",
       "      <td>20.0</td>\n",
       "      <td>20.0</td>\n",
       "    </tr>\n",
       "    <tr>\n",
       "      <th>1</th>\n",
       "      <td>1</td>\n",
       "      <td>410</td>\n",
       "      <td>45</td>\n",
       "      <td>17.0</td>\n",
       "      <td>1.5</td>\n",
       "      <td>130</td>\n",
       "      <td>1580</td>\n",
       "      <td>62</td>\n",
       "      <td>2.0</td>\n",
       "      <td>18</td>\n",
       "      <td>46.0</td>\n",
       "      <td>6.0</td>\n",
       "      <td>20.0</td>\n",
       "      <td>20.0</td>\n",
       "    </tr>\n",
       "    <tr>\n",
       "      <th>2</th>\n",
       "      <td>1</td>\n",
       "      <td>600</td>\n",
       "      <td>67</td>\n",
       "      <td>27.0</td>\n",
       "      <td>3.0</td>\n",
       "      <td>220</td>\n",
       "      <td>1920</td>\n",
       "      <td>63</td>\n",
       "      <td>3.0</td>\n",
       "      <td>18</td>\n",
       "      <td>70.0</td>\n",
       "      <td>10.0</td>\n",
       "      <td>20.0</td>\n",
       "      <td>50.0</td>\n",
       "    </tr>\n",
       "    <tr>\n",
       "      <th>3</th>\n",
       "      <td>1</td>\n",
       "      <td>280</td>\n",
       "      <td>31</td>\n",
       "      <td>10.0</td>\n",
       "      <td>0.5</td>\n",
       "      <td>155</td>\n",
       "      <td>1940</td>\n",
       "      <td>62</td>\n",
       "      <td>2.0</td>\n",
       "      <td>18</td>\n",
       "      <td>55.0</td>\n",
       "      <td>6.0</td>\n",
       "      <td>25.0</td>\n",
       "      <td>20.0</td>\n",
       "    </tr>\n",
       "    <tr>\n",
       "      <th>4</th>\n",
       "      <td>1</td>\n",
       "      <td>410</td>\n",
       "      <td>45</td>\n",
       "      <td>12.0</td>\n",
       "      <td>0.5</td>\n",
       "      <td>120</td>\n",
       "      <td>1980</td>\n",
       "      <td>81</td>\n",
       "      <td>4.0</td>\n",
       "      <td>18</td>\n",
       "      <td>46.0</td>\n",
       "      <td>6.0</td>\n",
       "      <td>20.0</td>\n",
       "      <td>20.0</td>\n",
       "    </tr>\n",
       "  </tbody>\n",
       "</table>\n",
       "</div>"
      ],
      "text/plain": [
       "   restaurant  cal_fat  total_fat  sat_fat  trans_fat  cholesterol  sodium  \\\n",
       "0           1       60          7      2.0        0.0           95    1110   \n",
       "1           1      410         45     17.0        1.5          130    1580   \n",
       "2           1      600         67     27.0        3.0          220    1920   \n",
       "3           1      280         31     10.0        0.5          155    1940   \n",
       "4           1      410         45     12.0        0.5          120    1980   \n",
       "\n",
       "   total_carb  fiber  sugar  protein  vit_a  vit_c  calcium  \n",
       "0          44    3.0     11     37.0    4.0   20.0     20.0  \n",
       "1          62    2.0     18     46.0    6.0   20.0     20.0  \n",
       "2          63    3.0     18     70.0   10.0   20.0     50.0  \n",
       "3          62    2.0     18     55.0    6.0   25.0     20.0  \n",
       "4          81    4.0     18     46.0    6.0   20.0     20.0  "
      ]
     },
     "execution_count": 27,
     "metadata": {},
     "output_type": "execute_result"
    }
   ],
   "source": [
    "data.head()"
   ]
  },
  {
   "cell_type": "markdown",
   "id": "3f6bc8b8",
   "metadata": {
    "papermill": {
     "duration": 0.013656,
     "end_time": "2023-10-18T06:53:50.041760",
     "exception": false,
     "start_time": "2023-10-18T06:53:50.028104",
     "status": "completed"
    },
    "tags": []
   },
   "source": [
    "#### SPLITTING DATASET INTO TRAINING AND TESTING SETS"
   ]
  },
  {
   "cell_type": "code",
   "execution_count": 28,
   "id": "be058293",
   "metadata": {
    "execution": {
     "iopub.execute_input": "2023-10-18T06:53:50.070946Z",
     "iopub.status.busy": "2023-10-18T06:53:50.070302Z",
     "iopub.status.idle": "2023-10-18T06:53:50.076021Z",
     "shell.execute_reply": "2023-10-18T06:53:50.075311Z"
    },
    "papermill": {
     "duration": 0.022455,
     "end_time": "2023-10-18T06:53:50.077843",
     "exception": false,
     "start_time": "2023-10-18T06:53:50.055388",
     "status": "completed"
    },
    "tags": []
   },
   "outputs": [],
   "source": [
    "train_data, test_data, train_target, test_target = train_test_split(data,target,test_size=0.33,random_state=42)"
   ]
  },
  {
   "cell_type": "code",
   "execution_count": 29,
   "id": "fd7ef2b1",
   "metadata": {
    "execution": {
     "iopub.execute_input": "2023-10-18T06:53:50.107788Z",
     "iopub.status.busy": "2023-10-18T06:53:50.107140Z",
     "iopub.status.idle": "2023-10-18T06:53:50.110865Z",
     "shell.execute_reply": "2023-10-18T06:53:50.110243Z"
    },
    "papermill": {
     "duration": 0.020828,
     "end_time": "2023-10-18T06:53:50.112643",
     "exception": false,
     "start_time": "2023-10-18T06:53:50.091815",
     "status": "completed"
    },
    "tags": []
   },
   "outputs": [],
   "source": [
    "test_target = test_target.ravel()"
   ]
  },
  {
   "cell_type": "markdown",
   "id": "d6b603a4",
   "metadata": {
    "papermill": {
     "duration": 0.013775,
     "end_time": "2023-10-18T06:53:50.140605",
     "exception": false,
     "start_time": "2023-10-18T06:53:50.126830",
     "status": "completed"
    },
    "tags": []
   },
   "source": [
    "#### MODELS"
   ]
  },
  {
   "cell_type": "markdown",
   "id": "f1bd1cb7",
   "metadata": {
    "papermill": {
     "duration": 0.01414,
     "end_time": "2023-10-18T06:53:50.168769",
     "exception": false,
     "start_time": "2023-10-18T06:53:50.154629",
     "status": "completed"
    },
    "tags": []
   },
   "source": [
    "##### DECISION TREES"
   ]
  },
  {
   "cell_type": "code",
   "execution_count": 30,
   "id": "4da5aa99",
   "metadata": {
    "execution": {
     "iopub.execute_input": "2023-10-18T06:53:50.199257Z",
     "iopub.status.busy": "2023-10-18T06:53:50.198338Z",
     "iopub.status.idle": "2023-10-18T06:53:50.465545Z",
     "shell.execute_reply": "2023-10-18T06:53:50.464472Z"
    },
    "papermill": {
     "duration": 0.284596,
     "end_time": "2023-10-18T06:53:50.467521",
     "exception": false,
     "start_time": "2023-10-18T06:53:50.182925",
     "status": "completed"
    },
    "tags": []
   },
   "outputs": [
    {
     "data": {
      "text/plain": [
       "115.86500246053906"
      ]
     },
     "execution_count": 30,
     "metadata": {},
     "output_type": "execute_result"
    }
   ],
   "source": [
    "from sklearn.metrics import mean_squared_error\n",
    "\n",
    "from sklearn.tree import DecisionTreeClassifier\n",
    "model = DecisionTreeClassifier()\n",
    "\n",
    "model.fit(train_data, train_target)\n",
    "Y_pred = model.predict(test_data)\n",
    "mse = mean_squared_error(test_target, Y_pred)\n",
    "rmse = np.sqrt(mse)\n",
    "rmse"
   ]
  },
  {
   "cell_type": "markdown",
   "id": "abf4d353",
   "metadata": {
    "papermill": {
     "duration": 0.013915,
     "end_time": "2023-10-18T06:53:50.495896",
     "exception": false,
     "start_time": "2023-10-18T06:53:50.481981",
     "status": "completed"
    },
    "tags": []
   },
   "source": [
    "##### RANDOM FOREST"
   ]
  },
  {
   "cell_type": "code",
   "execution_count": 31,
   "id": "6aa6515b",
   "metadata": {
    "execution": {
     "iopub.execute_input": "2023-10-18T06:53:50.525974Z",
     "iopub.status.busy": "2023-10-18T06:53:50.525351Z",
     "iopub.status.idle": "2023-10-18T06:53:50.905142Z",
     "shell.execute_reply": "2023-10-18T06:53:50.904489Z"
    },
    "papermill": {
     "duration": 0.397117,
     "end_time": "2023-10-18T06:53:50.907065",
     "exception": false,
     "start_time": "2023-10-18T06:53:50.509948",
     "status": "completed"
    },
    "tags": []
   },
   "outputs": [
    {
     "data": {
      "text/plain": [
       "79.04567651619925"
      ]
     },
     "execution_count": 31,
     "metadata": {},
     "output_type": "execute_result"
    }
   ],
   "source": [
    "from sklearn.ensemble import RandomForestRegressor\n",
    "model = RandomForestRegressor(n_estimators=100, random_state=42)\n",
    "\n",
    "model.fit(train_data, train_target)\n",
    "Y_pred = model.predict(test_data)\n",
    "mse = mean_squared_error(test_target, Y_pred)\n",
    "rmse = np.sqrt(mse)\n",
    "rmse"
   ]
  },
  {
   "cell_type": "markdown",
   "id": "35d4d6a4",
   "metadata": {
    "papermill": {
     "duration": 0.014345,
     "end_time": "2023-10-18T06:53:50.935935",
     "exception": false,
     "start_time": "2023-10-18T06:53:50.921590",
     "status": "completed"
    },
    "tags": []
   },
   "source": [
    "##### GRADIENT BOOSTING"
   ]
  },
  {
   "cell_type": "code",
   "execution_count": 32,
   "id": "bcd55443",
   "metadata": {
    "execution": {
     "iopub.execute_input": "2023-10-18T06:53:50.965675Z",
     "iopub.status.busy": "2023-10-18T06:53:50.965306Z",
     "iopub.status.idle": "2023-10-18T06:53:51.093207Z",
     "shell.execute_reply": "2023-10-18T06:53:51.092249Z"
    },
    "papermill": {
     "duration": 0.145163,
     "end_time": "2023-10-18T06:53:51.095181",
     "exception": false,
     "start_time": "2023-10-18T06:53:50.950018",
     "status": "completed"
    },
    "tags": []
   },
   "outputs": [
    {
     "data": {
      "text/plain": [
       "79.95191909046088"
      ]
     },
     "execution_count": 32,
     "metadata": {},
     "output_type": "execute_result"
    }
   ],
   "source": [
    "from sklearn.ensemble import GradientBoostingRegressor\n",
    "model = GradientBoostingRegressor(n_estimators=100, random_state=42)\n",
    "\n",
    "model.fit(train_data, train_target)\n",
    "Y_pred = model.predict(test_data)\n",
    "mse = mean_squared_error(test_target, Y_pred)\n",
    "rmse = np.sqrt(mse)\n",
    "rmse"
   ]
  }
 ],
 "metadata": {
  "kernelspec": {
   "display_name": "Python 3",
   "language": "python",
   "name": "python3"
  },
  "language_info": {
   "codemirror_mode": {
    "name": "ipython",
    "version": 3
   },
   "file_extension": ".py",
   "mimetype": "text/x-python",
   "name": "python",
   "nbconvert_exporter": "python",
   "pygments_lexer": "ipython3",
   "version": "3.10.12"
  },
  "papermill": {
   "default_parameters": {},
   "duration": 9.095886,
   "end_time": "2023-10-18T06:53:51.733545",
   "environment_variables": {},
   "exception": null,
   "input_path": "__notebook__.ipynb",
   "output_path": "__notebook__.ipynb",
   "parameters": {},
   "start_time": "2023-10-18T06:53:42.637659",
   "version": "2.4.0"
  }
 },
 "nbformat": 4,
 "nbformat_minor": 5
}
